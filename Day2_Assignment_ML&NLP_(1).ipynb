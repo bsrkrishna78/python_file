{
  "nbformat": 4,
  "nbformat_minor": 0,
  "metadata": {
    "colab": {
      "provenance": [],
      "authorship_tag": "ABX9TyNF4pRunTO/BEw8aPm8PBAS",
      "include_colab_link": true
    },
    "kernelspec": {
      "name": "python3",
      "display_name": "Python 3"
    },
    "language_info": {
      "name": "python"
    }
  },
  "cells": [
    {
      "cell_type": "markdown",
      "metadata": {
        "id": "view-in-github",
        "colab_type": "text"
      },
      "source": [
        "<a href=\"https://colab.research.google.com/github/bsrkrishna78/python_file/blob/main/Day2_Assignment_ML%26NLP_(1).ipynb\" target=\"_parent\"><img src=\"https://colab.research.google.com/assets/colab-badge.svg\" alt=\"Open In Colab\"/></a>"
      ]
    },
    {
      "cell_type": "code",
      "execution_count": 1,
      "metadata": {
        "colab": {
          "base_uri": "https://localhost:8080/"
        },
        "id": "UgP8eydVoj-k",
        "outputId": "810bb243-c9c2-4c50-8c22-7f3e7e1aa3a1"
      },
      "outputs": [
        {
          "output_type": "stream",
          "name": "stdout",
          "text": [
            "List: [10, 20, 30, 40, 50]\n",
            "Element at index 0: 10\n",
            "Element at index 2: 30\n",
            "Element at index -1: 50\n"
          ]
        }
      ],
      "source": [
        "# Create a list with 5 elements\n",
        "my_list = [10, 20, 30, 40, 50]\n",
        "print(\"List:\", my_list)\n",
        "print(\"Element at index 0:\", my_list[0])\n",
        "print(\"Element at index 2:\", my_list[2])\n",
        "print(\"Element at index -1:\", my_list[-1])\n"
      ]
    },
    {
      "cell_type": "code",
      "source": [
        "# Create a List, tuple and Dictionary with 5 elements in it and how to access few elements based on the index. Try  with different examples\n",
        "\n",
        "# Create a tuple with 5 elements\n",
        "my_tuple = (5, 10, 15, 20, 25)\n",
        "print(\"Tuple:\", my_tuple)\n",
        "print(\"Element at index 1:\", my_tuple[1])\n",
        "print(\"Element at index 4:\", my_tuple[4])\n",
        "print(\"Element at index -2:\", my_tuple[-2])"
      ],
      "metadata": {
        "colab": {
          "base_uri": "https://localhost:8080/"
        },
        "id": "v6M-PhGsoz0e",
        "outputId": "acb3220f-8588-4ddc-dd8e-af8962ddbc44"
      },
      "execution_count": 2,
      "outputs": [
        {
          "output_type": "stream",
          "name": "stdout",
          "text": [
            "Tuple: (5, 10, 15, 20, 25)\n",
            "Element at index 1: 10\n",
            "Element at index 4: 25\n",
            "Element at index -2: 20\n"
          ]
        }
      ]
    },
    {
      "cell_type": "code",
      "source": [
        "# Create a dictionary with 5 key-value pairs\n",
        "my_dict = {\"name\": \"Alice\", \"age\": 25, \"city\": \"New York\", \"job\": \"Engineer\", \"hobby\": \"Reading\"}\n",
        "print(\"Dictionary:\", my_dict)\n",
        "print(\"Value for key 'name':\", my_dict[\"name\"])\n",
        "print(\"Value for key 'city':\", my_dict[\"city\"])\n",
        "print(\"Value for key 'age':\", my_dict[\"age\"])"
      ],
      "metadata": {
        "colab": {
          "base_uri": "https://localhost:8080/"
        },
        "id": "0w99YnKApFJd",
        "outputId": "405d967f-f8f4-45e5-df8e-98fa0bbd4ce6"
      },
      "execution_count": 3,
      "outputs": [
        {
          "output_type": "stream",
          "name": "stdout",
          "text": [
            "Dictionary: {'name': 'Alice', 'age': 25, 'city': 'New York', 'job': 'Engineer', 'hobby': 'Reading'}\n",
            "Value for key 'name': Alice\n",
            "Value for key 'city': New York\n",
            "Value for key 'age': 25\n"
          ]
        }
      ]
    },
    {
      "cell_type": "code",
      "source": [],
      "metadata": {
        "id": "r495o8THpbW-"
      },
      "execution_count": null,
      "outputs": []
    },
    {
      "cell_type": "code",
      "source": [],
      "metadata": {
        "id": "M-2q-tZWpeJ3"
      },
      "execution_count": null,
      "outputs": []
    }
  ]
}