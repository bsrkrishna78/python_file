{
  "nbformat": 4,
  "nbformat_minor": 0,
  "metadata": {
    "colab": {
      "provenance": [],
      "authorship_tag": "ABX9TyOeAbmsEXuDbgQV3u0Cj55n",
      "include_colab_link": true
    },
    "kernelspec": {
      "name": "python3",
      "display_name": "Python 3"
    },
    "language_info": {
      "name": "python"
    }
  },
  "cells": [
    {
      "cell_type": "markdown",
      "metadata": {
        "id": "view-in-github",
        "colab_type": "text"
      },
      "source": [
        "<a href=\"https://colab.research.google.com/github/bsrkrishna78/python_file/blob/main/Day4_Assignment_ML%26NLP.ipynb\" target=\"_parent\"><img src=\"https://colab.research.google.com/assets/colab-badge.svg\" alt=\"Open In Colab\"/></a>"
      ]
    },
    {
      "cell_type": "code",
      "execution_count": 1,
      "metadata": {
        "colab": {
          "base_uri": "https://localhost:8080/"
        },
        "id": "4x52kjGfq9X-",
        "outputId": "b5144c73-f245-44b1-eaf1-d1f6c996d793"
      },
      "outputs": [
        {
          "output_type": "stream",
          "name": "stdout",
          "text": [
            "Enter a positive integer n: 10\n",
            "Sum of all even numbers between 1 and 10 is: 30\n"
          ]
        }
      ],
      "source": [
        "# Write a Python program to calculate the sum of all even numbers between 1 and a given positive integer n\n",
        "#Program:\n",
        "\n",
        "# Input: Given positive integer n\n",
        "n = int(input(\"Enter a positive integer n: \"))\n",
        "sum_even = 0\n",
        "for i in range(2, n+1, 2):  # Start at 2 and increment by 2 to only get even numbers\n",
        "    sum_even += i\n",
        "print(\"Sum of all even numbers between 1 and\", n, \"is:\", sum_even)"
      ]
    },
    {
      "cell_type": "code",
      "source": [],
      "metadata": {
        "id": "dPMQOVxSrRGi"
      },
      "execution_count": null,
      "outputs": []
    }
  ]
}