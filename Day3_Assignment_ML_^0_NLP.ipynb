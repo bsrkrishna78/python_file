{
  "nbformat": 4,
  "nbformat_minor": 0,
  "metadata": {
    "colab": {
      "provenance": [],
      "authorship_tag": "ABX9TyPdHWY3K52lsjZTGbyj3qNj",
      "include_colab_link": true
    },
    "kernelspec": {
      "name": "python3",
      "display_name": "Python 3"
    },
    "language_info": {
      "name": "python"
    }
  },
  "cells": [
    {
      "cell_type": "markdown",
      "metadata": {
        "id": "view-in-github",
        "colab_type": "text"
      },
      "source": [
        "<a href=\"https://colab.research.google.com/github/bsrkrishna78/python_file/blob/main/Day3_Assignment_ML_%5E0_NLP.ipynb\" target=\"_parent\"><img src=\"https://colab.research.google.com/assets/colab-badge.svg\" alt=\"Open In Colab\"/></a>"
      ]
    },
    {
      "cell_type": "code",
      "execution_count": 1,
      "metadata": {
        "colab": {
          "base_uri": "https://localhost:8080/"
        },
        "id": "8uta3HXAqKy3",
        "outputId": "6ab8a598-eaa8-43a2-c617-740394c6487f"
      },
      "outputs": [
        {
          "output_type": "stream",
          "name": "stdout",
          "text": [
            "Enter marks for Subject 1: 95\n",
            "Enter marks for Subject 2: 85\n",
            "Enter marks for Subject 3: 80\n",
            "Grade: B\n"
          ]
        }
      ],
      "source": [
        "# Write a Python program that takes a student's marks in three subjects as input.\n",
        "If the average is greater than or equal to 90, print \"Grade: A\".\n",
        "If the average is between 80 and 89, print \"Grade: B\".\n",
        "If the average is between 70 and 79, print \"Grade: C\".\n",
        "Otherwise, print \"Grade: Fail\".\n",
        "#Program:\n",
        "\n",
        "subject_1 = float(input(\"Enter marks for Subject 1: \"))\n",
        "subject_2 = float(input(\"Enter marks for Subject 2: \"))\n",
        "subject_3 = float(input(\"Enter marks for Subject 3: \"))\n",
        "average = (subject_1 + subject_2 + subject_3) / 3\n",
        "if average >= 90:\n",
        "    print(\"Grade: A\")\n",
        "elif 80 <= average < 90:\n",
        "    print(\"Grade: B\")\n",
        "elif 70 <= average < 80:\n",
        "    print(\"Grade: C\")\n",
        "else:\n",
        "    print(\"Grade: Fail\")"
      ]
    }
  ]
}