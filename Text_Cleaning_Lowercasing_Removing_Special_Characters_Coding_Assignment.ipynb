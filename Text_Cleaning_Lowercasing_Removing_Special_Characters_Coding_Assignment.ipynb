{
  "nbformat": 4,
  "nbformat_minor": 0,
  "metadata": {
    "colab": {
      "provenance": [],
      "authorship_tag": "ABX9TyOeDh51W+Zv8x/zZOnUcSw3",
      "include_colab_link": true
    },
    "kernelspec": {
      "name": "python3",
      "display_name": "Python 3"
    },
    "language_info": {
      "name": "python"
    }
  },
  "cells": [
    {
      "cell_type": "markdown",
      "metadata": {
        "id": "view-in-github",
        "colab_type": "text"
      },
      "source": [
        "<a href=\"https://colab.research.google.com/github/bsrkrishna78/python_file/blob/main/Text_Cleaning_Lowercasing_Removing_Special_Characters_Coding_Assignment.ipynb\" target=\"_parent\"><img src=\"https://colab.research.google.com/assets/colab-badge.svg\" alt=\"Open In Colab\"/></a>"
      ]
    },
    {
      "cell_type": "code",
      "execution_count": 1,
      "metadata": {
        "colab": {
          "base_uri": "https://localhost:8080/"
        },
        "id": "KYh2gzPMxrhm",
        "outputId": "3ee81294-415a-4222-8183-8558ad9dd2b2"
      },
      "outputs": [
        {
          "output_type": "stream",
          "name": "stdout",
          "text": [
            "hello world welcome to nlp 101\n"
          ]
        }
      ],
      "source": [
        "# Write a Python function to clean a given text by removing special characters and converting it to lowercase. Test it with the input: 'Hello, World! Welcome to NLP 101.'\n",
        "# Program:\n",
        "\n",
        "import re\n",
        "\n",
        "def clean_text(text):\n",
        "    # Remove special characters using regex and convert to lowercase\n",
        "    cleaned_text = re.sub(r'[^a-zA-Z0-9\\s]', '', text).lower()\n",
        "    return cleaned_text\n",
        "input_text = 'Hello, World! Welcome to NLP 101.'\n",
        "cleaned_text = clean_text(input_text)\n",
        "print(cleaned_text)"
      ]
    },
    {
      "cell_type": "code",
      "source": [],
      "metadata": {
        "id": "a2TXuHacx5yk"
      },
      "execution_count": null,
      "outputs": []
    }
  ]
}