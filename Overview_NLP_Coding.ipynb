{
  "nbformat": 4,
  "nbformat_minor": 0,
  "metadata": {
    "colab": {
      "provenance": [],
      "authorship_tag": "ABX9TyOEU8p7bHPp0xv62pv7hZ7K",
      "include_colab_link": true
    },
    "kernelspec": {
      "name": "python3",
      "display_name": "Python 3"
    },
    "language_info": {
      "name": "python"
    }
  },
  "cells": [
    {
      "cell_type": "markdown",
      "metadata": {
        "id": "view-in-github",
        "colab_type": "text"
      },
      "source": [
        "<a href=\"https://colab.research.google.com/github/bsrkrishna78/python_file/blob/main/Overview_NLP_Coding.ipynb\" target=\"_parent\"><img src=\"https://colab.research.google.com/assets/colab-badge.svg\" alt=\"Open In Colab\"/></a>"
      ]
    },
    {
      "cell_type": "code",
      "execution_count": 1,
      "metadata": {
        "colab": {
          "base_uri": "https://localhost:8080/"
        },
        "id": "lI3Jk2_Kr_tB",
        "outputId": "7220c938-f658-4e81-80ff-38aa63947d07"
      },
      "outputs": [
        {
          "output_type": "stream",
          "name": "stdout",
          "text": [
            "Enter a text: Hello world! Hello everyone.\n",
            "hello: 2\n",
            "world: 1\n",
            "everyone: 1\n"
          ]
        }
      ],
      "source": [
        "# Write a Python program to calculate the frequency of each word in a given text. Print the words and their corresponding counts\n",
        "# Program:\n",
        "\n",
        "# Function to calculate word frequency\n",
        "def word_frequency(text):\n",
        "    text = text.lower()\n",
        "    text = text.replace(',', '').replace('.', '').replace('!', '').replace('?', '')\n",
        "    words = text.split()\n",
        "    word_count = {}\n",
        "    for word in words:\n",
        "        if word in word_count:\n",
        "            word_count[word] += 1\n",
        "        else:\n",
        "            word_count[word] = 1\n",
        "    for word, count in word_count.items():\n",
        "        print(f'{word}: {count}')\n",
        "text = input(\"Enter a text: \")\n",
        "word_frequency(text)"
      ]
    },
    {
      "cell_type": "code",
      "source": [],
      "metadata": {
        "id": "PWMpgEiztVzD"
      },
      "execution_count": null,
      "outputs": []
    }
  ]
}