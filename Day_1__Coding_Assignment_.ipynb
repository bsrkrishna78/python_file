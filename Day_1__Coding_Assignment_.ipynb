{
  "nbformat": 4,
  "nbformat_minor": 0,
  "metadata": {
    "colab": {
      "provenance": [],
      "authorship_tag": "ABX9TyN4SxCUx6yKVtNkouXdhxEZ",
      "include_colab_link": true
    },
    "kernelspec": {
      "name": "python3",
      "display_name": "Python 3"
    },
    "language_info": {
      "name": "python"
    }
  },
  "cells": [
    {
      "cell_type": "markdown",
      "metadata": {
        "id": "view-in-github",
        "colab_type": "text"
      },
      "source": [
        "<a href=\"https://colab.research.google.com/github/bsrkrishna78/python_file/blob/main/Day_1__Coding_Assignment_.ipynb\" target=\"_parent\"><img src=\"https://colab.research.google.com/assets/colab-badge.svg\" alt=\"Open In Colab\"/></a>"
      ]
    },
    {
      "cell_type": "code",
      "execution_count": 1,
      "metadata": {
        "colab": {
          "base_uri": "https://localhost:8080/"
        },
        "id": "2K7MHM20nHTO",
        "outputId": "ecc51f3e-47ec-4de9-f56d-f1c765cbea38"
      },
      "outputs": [
        {
          "output_type": "stream",
          "name": "stdout",
          "text": [
            "Integer Variable: 10 Type: <class 'int'>\n",
            "Float Variable: 3.14 Type: <class 'float'>\n",
            "String Variable: Hello, world! Type: <class 'str'>\n",
            "Boolean Variable: True Type: <class 'bool'>\n"
          ]
        }
      ],
      "source": [
        "#  Write a program in Jupyter Notebook to declare variables of different data types (integer, float, string, and boolean). Print each variable and its type.\n",
        "integer_var = 10\n",
        "float_var = 3.14\n",
        "string_var = \"Hello, world!\"\n",
        "boolean_var = True\n",
        "\n",
        "# Print each variable and its type\n",
        "print(\"Integer Variable:\", integer_var, \"Type:\", type(integer_var))\n",
        "print(\"Float Variable:\", float_var, \"Type:\", type(float_var))\n",
        "print(\"String Variable:\", string_var, \"Type:\", type(string_var))\n",
        "print(\"Boolean Variable:\", boolean_var, \"Type:\", type(boolean_var))\n"
      ]
    },
    {
      "cell_type": "code",
      "source": [],
      "metadata": {
        "id": "L_o3NfQXnzFh"
      },
      "execution_count": null,
      "outputs": []
    }
  ]
}